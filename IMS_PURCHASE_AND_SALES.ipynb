{
 "cells": [
  {
   "cell_type": "code",
   "execution_count": 1,
   "id": "badd170b",
   "metadata": {},
   "outputs": [],
   "source": [
    "import json\n",
    "\n",
    "fd = open(\"record.json\",'r')\n",
    "record = fd.read()\n",
    "fd.close()\n",
    "record = json.loads(record)"
   ]
  },
  {
   "cell_type": "code",
   "execution_count": 2,
   "id": "c5e19774",
   "metadata": {},
   "outputs": [
    {
     "data": {
      "text/plain": [
       "{'1004': {'name': 'Candy', 'pr': 5, 'qn': 1000},\n",
       " '1005': {'name': 'Pen', 'pr': 20, 'qn': 100},\n",
       " '1006': {'name': 'Phone', 'pr': 50000, 'qn': 10},\n",
       " '1007': {'name': 'Mic', 'pr': 1500, 'qn': 0},\n",
       " '1008': {'name': 'Case', 'pr': 599, 'qn': 5},\n",
       " '1009': {'name': 'Keyboard', 'pr': 1999, 'qn': 10},\n",
       " '1011': {'name': 'Cadbury', 'pr': 75, 'qn': 270},\n",
       " '1012': {'name': 'Candle', 'pr': 15, 'qn': 1500},\n",
       " '1013': {'name': 'Tata Tea ', 'pr': 87, 'qn': 1700},\n",
       " '1014': {'name': 'Nescafe Coffee', 'pr': 144, 'qn': 270},\n",
       " '1015': {'name': 'Coca-Cola Soft Drink', 'pr': 210, 'qn': 150},\n",
       " '1016': {'name': 'Cinthol Deo', 'pr': 125, 'qn': 27},\n",
       " '1017': {'name': 'Shirt', 'pr': 599, 'qn': 45},\n",
       " '1018': {'name': 'Soup', 'pr': 40, 'qn': 154},\n",
       " '1019': {'name': 'Jacket', 'pr': 999, 'qn': 29},\n",
       " '1020': {'name': 'Speaker', 'pr': 1299, 'qn': 25},\n",
       " '1021': {'name': 'Router', 'pr': 1599, 'qn': 80},\n",
       " '1023': {'name': 'Smart watch', 'pr': 5999, 'qn': 150},\n",
       " '1024': {'name': 'Casual Watch', 'pr': 1999, 'qn': 67},\n",
       " '1025': {'name': 'Sandles', 'pr': 399, 'qn': 500},\n",
       " '1026': {'name': 'Gaming Chair', 'pr': 8000, 'qn': 83},\n",
       " '1027': {'name': 'Selfie Stick', 'pr': 120, 'qn': 579},\n",
       " '1028': {'name': 'Black Board', 'pr': 250, 'qn': 400},\n",
       " '1029': {'name': 'Dumble', 'pr': 599, 'qn': 51},\n",
       " '1030': {'name': 'Belt', 'pr': 150, 'qn': 588},\n",
       " '1031': {'name': 'Shoe', 'pr': 1999, 'qn': 54},\n",
       " '1032': {'name': 'Cable', 'pr': 55, 'qn': 455},\n",
       " '1033': {'name': 'LED', 'pr': 25999, 'qn': 50},\n",
       " '2022': {'name': 'Gloves', 'pr': 99, 'qn': 155},\n",
       " '1055': {'name': 'Perfume', 'pr': 299, 'qn': 150},\n",
       " '1034': {'name': 'Coca Cola', 'pr': 60, 'qn': 200}}"
      ]
     },
     "execution_count": 2,
     "metadata": {},
     "output_type": "execute_result"
    }
   ],
   "source": [
    "record"
   ]
  },
  {
   "cell_type": "code",
   "execution_count": 3,
   "id": "ce2ab471",
   "metadata": {},
   "outputs": [
    {
     "data": {
      "text/plain": [
       "31"
      ]
     },
     "execution_count": 3,
     "metadata": {},
     "output_type": "execute_result"
    }
   ],
   "source": [
    "len(record)"
   ]
  },
  {
   "cell_type": "code",
   "execution_count": 4,
   "id": "8322366b",
   "metadata": {},
   "outputs": [
    {
     "name": "stdout",
     "output_type": "stream",
     "text": [
      "Enter the product_Id: 1004\n",
      "Enter the quantity: 500\n",
      "Product:  Candy\n",
      "Price:  5\n",
      "Billing Amount:  2500\n"
     ]
    }
   ],
   "source": [
    "#PURCHASE PRODUCT\n",
    "\n",
    "\n",
    "ui_prod  = str(input(\"Enter the product_Id: \"))\n",
    "if ui_prod in record:\n",
    "    ui_quant = int(input(\"Enter the quantity: \"))\n",
    "    if ui_quant > record[ui_prod]['qn']:\n",
    "        print(\"OutOfStock\")      \n",
    "    else:\n",
    "        \n",
    "        print(\"Product: \", record[ui_prod]['name'])\n",
    "        print(\"Price: \", record[ui_prod]['pr'])\n",
    "        print(\"Billing Amount: \", record[ui_prod]['pr'] * ui_quant)\n",
    "        record[ui_prod]['qn'] = record[ui_prod]['qn'] - ui_quant  \n",
    "        \n",
    "        \n",
    "else:\n",
    "    print(\"Product Not Available\")\n",
    "\n"
   ]
  },
  {
   "cell_type": "code",
   "execution_count": 5,
   "id": "c982c402",
   "metadata": {},
   "outputs": [],
   "source": [
    "#SALES DETAILS \n",
    "\n",
    "def add_sales(prod,qn,amount):\n",
    "    s = open('sales.json','r')\n",
    "    sales = json.load(s)\n",
    "    s.close()\n",
    "    sales_entry =  {len(sales)+1: {'prod' : prod, 'qn' : qn, 'amount': amount}}\n",
    "    sales.update(sales_entry)\n",
    "    with open(\"sales.json\", \"w\") as outfile:\n",
    "        json.dump(sales, outfile)\n",
    "\n",
    "add_sales(ui_prod,ui_quant,record[ui_prod]['pr'] * ui_quant)\n"
   ]
  },
  {
   "cell_type": "code",
   "execution_count": 6,
   "id": "5134831d",
   "metadata": {},
   "outputs": [],
   "source": [
    "sl = open(\"sales.json\",'r')\n",
    "s = sl.read()\n",
    "sl.close()\n",
    "sales_data = json.loads(s)\n"
   ]
  },
  {
   "cell_type": "code",
   "execution_count": 7,
   "id": "bd464482",
   "metadata": {},
   "outputs": [
    {
     "data": {
      "text/plain": [
       "{'1': {'prod': '1002', 'qn': 1, 'amount': 800},\n",
       " '2': {'prod': '1003', 'qn': 10, 'amount': 850},\n",
       " '3': {'prod': '1015', 'qn': 2, 'amount': 420},\n",
       " '4': {'prod': '1005', 'qn': 5, 'amount': 100},\n",
       " '5': {'prod': '1024', 'qn': 5, 'amount': 9995},\n",
       " '6': {'prod': '1004', 'qn': 500, 'amount': 2500}}"
      ]
     },
     "execution_count": 7,
     "metadata": {},
     "output_type": "execute_result"
    }
   ],
   "source": [
    "sales_data"
   ]
  }
 ],
 "metadata": {
  "kernelspec": {
   "display_name": "Python 3",
   "language": "python",
   "name": "python3"
  },
  "language_info": {
   "codemirror_mode": {
    "name": "ipython",
    "version": 3
   },
   "file_extension": ".py",
   "mimetype": "text/x-python",
   "name": "python",
   "nbconvert_exporter": "python",
   "pygments_lexer": "ipython3",
   "version": "3.8.8"
  }
 },
 "nbformat": 4,
 "nbformat_minor": 5
}
