{
 "cells": [
  {
   "cell_type": "code",
   "execution_count": 1,
   "id": "4fb0ce0c",
   "metadata": {},
   "outputs": [],
   "source": [
    "import json\n",
    "fd = open(\"record.json\",'r')\n",
    "r = fd.read()\n",
    "fd.close()\n",
    "record = json.loads(r)\n"
   ]
  },
  {
   "cell_type": "code",
   "execution_count": 2,
   "id": "5258eb1b",
   "metadata": {},
   "outputs": [
    {
     "data": {
      "text/plain": [
       "{'1002': {'name': 'Milk Cake', 'pr': 800, 'qn': 100},\n",
       " '1004': {'name': 'Candy', 'pr': 5, 'qn': 1000},\n",
       " '1005': {'name': 'Pen', 'pr': 20, 'qn': 100},\n",
       " '1006': {'name': 'Phone', 'pr': 50000, 'qn': 10},\n",
       " '1007': {'name': 'Mic', 'pr': 1500, 'qn': 0},\n",
       " '1008': {'name': 'Case', 'pr': 599, 'qn': 5},\n",
       " '1009': {'name': 'Keyboard', 'pr': 1999, 'qn': 10},\n",
       " '1011': {'name': 'Cadbury', 'pr': 75, 'qn': 270},\n",
       " '1012': {'name': 'Candle', 'pr': 15, 'qn': 1500},\n",
       " '1013': {'name': 'Tata Tea ', 'pr': 87, 'qn': 1700},\n",
       " '1014': {'name': 'Nescafe Coffee', 'pr': 144, 'qn': 270},\n",
       " '1015': {'name': 'Coca-Cola Soft Drink', 'pr': 210, 'qn': 150},\n",
       " '1016': {'name': 'Cinthol Deo', 'pr': 125, 'qn': 27},\n",
       " '1017': {'name': 'Shirt', 'pr': 599, 'qn': 45},\n",
       " '1018': {'name': 'Soup', 'pr': 40, 'qn': 154},\n",
       " '1019': {'name': 'Jacket', 'pr': 999, 'qn': 29},\n",
       " '1020': {'name': 'Speaker', 'pr': 1299, 'qn': 25},\n",
       " '1021': {'name': 'Router', 'pr': 1599, 'qn': 80},\n",
       " '1023': {'name': 'Smart watch', 'pr': 5999, 'qn': 150},\n",
       " '1024': {'name': 'Casual Watch', 'pr': 1999, 'qn': 67},\n",
       " '1025': {'name': 'Sandles', 'pr': 399, 'qn': 500},\n",
       " '1026': {'name': 'Gaming Chair', 'pr': 8000, 'qn': 83},\n",
       " '1027': {'name': 'Selfie Stick', 'pr': 120, 'qn': 579},\n",
       " '1028': {'name': 'Black Board', 'pr': 250, 'qn': 400},\n",
       " '1029': {'name': 'Dumble', 'pr': 599, 'qn': 51},\n",
       " '1030': {'name': 'Belt', 'pr': 150, 'qn': 588},\n",
       " '1031': {'name': 'Shoe', 'pr': 1999, 'qn': 54},\n",
       " '1032': {'name': 'Cable', 'pr': 55, 'qn': 455},\n",
       " '1033': {'name': 'LED', 'pr': 25999, 'qn': 50},\n",
       " '2022': {'name': 'Gloves', 'pr': 99, 'qn': 155},\n",
       " '1055': {'name': 'Perfume', 'pr': 299, 'qn': 150}}"
      ]
     },
     "execution_count": 2,
     "metadata": {},
     "output_type": "execute_result"
    }
   ],
   "source": [
    "record"
   ]
  },
  {
   "cell_type": "code",
   "execution_count": 3,
   "id": "4a839a43",
   "metadata": {},
   "outputs": [
    {
     "data": {
      "text/plain": [
       "31"
      ]
     },
     "execution_count": 3,
     "metadata": {},
     "output_type": "execute_result"
    }
   ],
   "source": [
    "len(record)"
   ]
  },
  {
   "cell_type": "code",
   "execution_count": 4,
   "id": "d2a6bd81",
   "metadata": {},
   "outputs": [
    {
     "name": "stdout",
     "output_type": "stream",
     "text": [
      "Enter product id:1034\n",
      "Enter name:Coca Cola\n",
      "Enter price:60\n",
      "Enter quantity:200\n"
     ]
    }
   ],
   "source": [
    "#ADD NEW PRODUCT\n",
    "\n",
    "prod_id = str(input(\"Enter product id:\"))\n",
    "name = str(input(\"Enter name:\"))\n",
    "pr = int(input(\"Enter price:\"))\n",
    "if prod_id in record:\n",
    "  qn =record[prod_id]['qn'] +  int(input(\"Enter quantity:\"))\n",
    "else:\n",
    "  qn = int(input(\"Enter quantity:\"))\n",
    "\n",
    "record[prod_id] = {'name': name, 'pr': pr, 'qn': qn}\n",
    "\n",
    "js = json.dumps(record)\n",
    "\n",
    "\n",
    "fd = open(\"record.json\",'w')\n",
    "fd.write(js)\n",
    "fd.close()"
   ]
  },
  {
   "cell_type": "code",
   "execution_count": 5,
   "id": "8c0c855c",
   "metadata": {},
   "outputs": [
    {
     "data": {
      "text/plain": [
       "{'1002': {'name': 'Milk Cake', 'pr': 800, 'qn': 100},\n",
       " '1004': {'name': 'Candy', 'pr': 5, 'qn': 1000},\n",
       " '1005': {'name': 'Pen', 'pr': 20, 'qn': 100},\n",
       " '1006': {'name': 'Phone', 'pr': 50000, 'qn': 10},\n",
       " '1007': {'name': 'Mic', 'pr': 1500, 'qn': 0},\n",
       " '1008': {'name': 'Case', 'pr': 599, 'qn': 5},\n",
       " '1009': {'name': 'Keyboard', 'pr': 1999, 'qn': 10},\n",
       " '1011': {'name': 'Cadbury', 'pr': 75, 'qn': 270},\n",
       " '1012': {'name': 'Candle', 'pr': 15, 'qn': 1500},\n",
       " '1013': {'name': 'Tata Tea ', 'pr': 87, 'qn': 1700},\n",
       " '1014': {'name': 'Nescafe Coffee', 'pr': 144, 'qn': 270},\n",
       " '1015': {'name': 'Coca-Cola Soft Drink', 'pr': 210, 'qn': 150},\n",
       " '1016': {'name': 'Cinthol Deo', 'pr': 125, 'qn': 27},\n",
       " '1017': {'name': 'Shirt', 'pr': 599, 'qn': 45},\n",
       " '1018': {'name': 'Soup', 'pr': 40, 'qn': 154},\n",
       " '1019': {'name': 'Jacket', 'pr': 999, 'qn': 29},\n",
       " '1020': {'name': 'Speaker', 'pr': 1299, 'qn': 25},\n",
       " '1021': {'name': 'Router', 'pr': 1599, 'qn': 80},\n",
       " '1023': {'name': 'Smart watch', 'pr': 5999, 'qn': 150},\n",
       " '1024': {'name': 'Casual Watch', 'pr': 1999, 'qn': 67},\n",
       " '1025': {'name': 'Sandles', 'pr': 399, 'qn': 500},\n",
       " '1026': {'name': 'Gaming Chair', 'pr': 8000, 'qn': 83},\n",
       " '1027': {'name': 'Selfie Stick', 'pr': 120, 'qn': 579},\n",
       " '1028': {'name': 'Black Board', 'pr': 250, 'qn': 400},\n",
       " '1029': {'name': 'Dumble', 'pr': 599, 'qn': 51},\n",
       " '1030': {'name': 'Belt', 'pr': 150, 'qn': 588},\n",
       " '1031': {'name': 'Shoe', 'pr': 1999, 'qn': 54},\n",
       " '1032': {'name': 'Cable', 'pr': 55, 'qn': 455},\n",
       " '1033': {'name': 'LED', 'pr': 25999, 'qn': 50},\n",
       " '2022': {'name': 'Gloves', 'pr': 99, 'qn': 155},\n",
       " '1055': {'name': 'Perfume', 'pr': 299, 'qn': 150},\n",
       " '1034': {'name': 'Coca Cola', 'pr': 60, 'qn': 200}}"
      ]
     },
     "execution_count": 5,
     "metadata": {},
     "output_type": "execute_result"
    }
   ],
   "source": [
    "record"
   ]
  },
  {
   "cell_type": "code",
   "execution_count": 6,
   "id": "21af1a88",
   "metadata": {},
   "outputs": [],
   "source": [
    "#DELETE PRODUCT\n",
    "\n",
    "del record['1002']\n",
    "js = json.dumps(record)\n",
    "with open('record.json', 'w') as data_file:\n",
    "    data = json.dump(record, data_file)\n"
   ]
  },
  {
   "cell_type": "code",
   "execution_count": 7,
   "id": "b11c9031",
   "metadata": {},
   "outputs": [
    {
     "data": {
      "text/plain": [
       "{'1004': {'name': 'Candy', 'pr': 5, 'qn': 1000},\n",
       " '1005': {'name': 'Pen', 'pr': 20, 'qn': 100},\n",
       " '1006': {'name': 'Phone', 'pr': 50000, 'qn': 10},\n",
       " '1007': {'name': 'Mic', 'pr': 1500, 'qn': 0},\n",
       " '1008': {'name': 'Case', 'pr': 599, 'qn': 5},\n",
       " '1009': {'name': 'Keyboard', 'pr': 1999, 'qn': 10},\n",
       " '1011': {'name': 'Cadbury', 'pr': 75, 'qn': 270},\n",
       " '1012': {'name': 'Candle', 'pr': 15, 'qn': 1500},\n",
       " '1013': {'name': 'Tata Tea ', 'pr': 87, 'qn': 1700},\n",
       " '1014': {'name': 'Nescafe Coffee', 'pr': 144, 'qn': 270},\n",
       " '1015': {'name': 'Coca-Cola Soft Drink', 'pr': 210, 'qn': 150},\n",
       " '1016': {'name': 'Cinthol Deo', 'pr': 125, 'qn': 27},\n",
       " '1017': {'name': 'Shirt', 'pr': 599, 'qn': 45},\n",
       " '1018': {'name': 'Soup', 'pr': 40, 'qn': 154},\n",
       " '1019': {'name': 'Jacket', 'pr': 999, 'qn': 29},\n",
       " '1020': {'name': 'Speaker', 'pr': 1299, 'qn': 25},\n",
       " '1021': {'name': 'Router', 'pr': 1599, 'qn': 80},\n",
       " '1023': {'name': 'Smart watch', 'pr': 5999, 'qn': 150},\n",
       " '1024': {'name': 'Casual Watch', 'pr': 1999, 'qn': 67},\n",
       " '1025': {'name': 'Sandles', 'pr': 399, 'qn': 500},\n",
       " '1026': {'name': 'Gaming Chair', 'pr': 8000, 'qn': 83},\n",
       " '1027': {'name': 'Selfie Stick', 'pr': 120, 'qn': 579},\n",
       " '1028': {'name': 'Black Board', 'pr': 250, 'qn': 400},\n",
       " '1029': {'name': 'Dumble', 'pr': 599, 'qn': 51},\n",
       " '1030': {'name': 'Belt', 'pr': 150, 'qn': 588},\n",
       " '1031': {'name': 'Shoe', 'pr': 1999, 'qn': 54},\n",
       " '1032': {'name': 'Cable', 'pr': 55, 'qn': 455},\n",
       " '1033': {'name': 'LED', 'pr': 25999, 'qn': 50},\n",
       " '2022': {'name': 'Gloves', 'pr': 99, 'qn': 155},\n",
       " '1055': {'name': 'Perfume', 'pr': 299, 'qn': 150},\n",
       " '1034': {'name': 'Coca Cola', 'pr': 60, 'qn': 200}}"
      ]
     },
     "execution_count": 7,
     "metadata": {},
     "output_type": "execute_result"
    }
   ],
   "source": [
    "record"
   ]
  }
 ],
 "metadata": {
  "kernelspec": {
   "display_name": "Python 3",
   "language": "python",
   "name": "python3"
  },
  "language_info": {
   "codemirror_mode": {
    "name": "ipython",
    "version": 3
   },
   "file_extension": ".py",
   "mimetype": "text/x-python",
   "name": "python",
   "nbconvert_exporter": "python",
   "pygments_lexer": "ipython3",
   "version": "3.8.8"
  }
 },
 "nbformat": 4,
 "nbformat_minor": 5
}
